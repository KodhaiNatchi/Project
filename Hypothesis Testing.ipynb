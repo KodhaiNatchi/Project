{
 "cells": [
  {
   "cell_type": "code",
   "execution_count": 2,
   "metadata": {},
   "outputs": [],
   "source": [
    "import pandas as pd\n",
    "import numpy as np\n",
    "import math\n",
    "import scipy.stats as stats\n",
    "import statistics \n",
    "from flask import request"
   ]
  },
  {
   "cell_type": "code",
   "execution_count": 3,
   "metadata": {},
   "outputs": [],
   "source": [
    "data = pd.read_csv('Cupid dataset.csv')"
   ]
  },
  {
   "cell_type": "code",
   "execution_count": 4,
   "metadata": {},
   "outputs": [
    {
     "data": {
      "text/html": [
       "<div>\n",
       "<style scoped>\n",
       "    .dataframe tbody tr th:only-of-type {\n",
       "        vertical-align: middle;\n",
       "    }\n",
       "\n",
       "    .dataframe tbody tr th {\n",
       "        vertical-align: top;\n",
       "    }\n",
       "\n",
       "    .dataframe thead th {\n",
       "        text-align: right;\n",
       "    }\n",
       "</style>\n",
       "<table border=\"1\" class=\"dataframe\">\n",
       "  <thead>\n",
       "    <tr style=\"text-align: right;\">\n",
       "      <th></th>\n",
       "      <th>S.no</th>\n",
       "      <th>Services</th>\n",
       "      <th>AWS response time</th>\n",
       "      <th>In House response time</th>\n",
       "    </tr>\n",
       "  </thead>\n",
       "  <tbody>\n",
       "    <tr>\n",
       "      <th>0</th>\n",
       "      <td>0</td>\n",
       "      <td>Sentiment Analysis</td>\n",
       "      <td>32</td>\n",
       "      <td>96</td>\n",
       "    </tr>\n",
       "    <tr>\n",
       "      <th>1</th>\n",
       "      <td>1</td>\n",
       "      <td>Named entity detection</td>\n",
       "      <td>16</td>\n",
       "      <td>78</td>\n",
       "    </tr>\n",
       "    <tr>\n",
       "      <th>2</th>\n",
       "      <td>2</td>\n",
       "      <td>Category classification</td>\n",
       "      <td>12</td>\n",
       "      <td>64</td>\n",
       "    </tr>\n",
       "    <tr>\n",
       "      <th>3</th>\n",
       "      <td>3</td>\n",
       "      <td>Snippeting tool</td>\n",
       "      <td>34</td>\n",
       "      <td>84</td>\n",
       "    </tr>\n",
       "    <tr>\n",
       "      <th>4</th>\n",
       "      <td>4</td>\n",
       "      <td>Automatic Speech recognition</td>\n",
       "      <td>20</td>\n",
       "      <td>70</td>\n",
       "    </tr>\n",
       "  </tbody>\n",
       "</table>\n",
       "</div>"
      ],
      "text/plain": [
       "   S.no                      Services  AWS response time  \\\n",
       "0     0            Sentiment Analysis                 32   \n",
       "1     1        Named entity detection                 16   \n",
       "2     2       Category classification                 12   \n",
       "3     3               Snippeting tool                 34   \n",
       "4     4  Automatic Speech recognition                 20   \n",
       "\n",
       "   In House response time  \n",
       "0                      96  \n",
       "1                      78  \n",
       "2                      64  \n",
       "3                      84  \n",
       "4                      70  "
      ]
     },
     "execution_count": 4,
     "metadata": {},
     "output_type": "execute_result"
    }
   ],
   "source": [
    "data.head()"
   ]
  },
  {
   "cell_type": "code",
   "execution_count": 5,
   "metadata": {},
   "outputs": [],
   "source": [
    "data.drop('S.no' , axis=1 , inplace=True)"
   ]
  },
  {
   "cell_type": "code",
   "execution_count": 6,
   "metadata": {},
   "outputs": [],
   "source": [
    "data.drop('Services' , axis=1, inplace=True)"
   ]
  },
  {
   "cell_type": "code",
   "execution_count": 7,
   "metadata": {},
   "outputs": [],
   "source": [
    "data.rename({'AWS response time' : 'AWS_response_time', 'In House response time' :'In_House_response_time'}, axis=1, inplace=True)"
   ]
  },
  {
   "cell_type": "code",
   "execution_count": 8,
   "metadata": {},
   "outputs": [
    {
     "data": {
      "text/html": [
       "<div>\n",
       "<style scoped>\n",
       "    .dataframe tbody tr th:only-of-type {\n",
       "        vertical-align: middle;\n",
       "    }\n",
       "\n",
       "    .dataframe tbody tr th {\n",
       "        vertical-align: top;\n",
       "    }\n",
       "\n",
       "    .dataframe thead th {\n",
       "        text-align: right;\n",
       "    }\n",
       "</style>\n",
       "<table border=\"1\" class=\"dataframe\">\n",
       "  <thead>\n",
       "    <tr style=\"text-align: right;\">\n",
       "      <th></th>\n",
       "      <th>AWS_response_time</th>\n",
       "      <th>In_House_response_time</th>\n",
       "    </tr>\n",
       "  </thead>\n",
       "  <tbody>\n",
       "    <tr>\n",
       "      <th>0</th>\n",
       "      <td>32</td>\n",
       "      <td>96</td>\n",
       "    </tr>\n",
       "    <tr>\n",
       "      <th>1</th>\n",
       "      <td>16</td>\n",
       "      <td>78</td>\n",
       "    </tr>\n",
       "    <tr>\n",
       "      <th>2</th>\n",
       "      <td>12</td>\n",
       "      <td>64</td>\n",
       "    </tr>\n",
       "    <tr>\n",
       "      <th>3</th>\n",
       "      <td>34</td>\n",
       "      <td>84</td>\n",
       "    </tr>\n",
       "    <tr>\n",
       "      <th>4</th>\n",
       "      <td>20</td>\n",
       "      <td>70</td>\n",
       "    </tr>\n",
       "  </tbody>\n",
       "</table>\n",
       "</div>"
      ],
      "text/plain": [
       "   AWS_response_time  In_House_response_time\n",
       "0                 32                      96\n",
       "1                 16                      78\n",
       "2                 12                      64\n",
       "3                 34                      84\n",
       "4                 20                      70"
      ]
     },
     "execution_count": 8,
     "metadata": {},
     "output_type": "execute_result"
    }
   ],
   "source": [
    "data.head()"
   ]
  },
  {
   "cell_type": "markdown",
   "metadata": {},
   "source": [
    "# Two-sample T-test With Python"
   ]
  },
  {
   "cell_type": "markdown",
   "metadata": {},
   "source": [
    "The Independent Samples t Test or 2-sample t-test compares the means of two independent groups in order to determine whether there is statistical evidence that the associated population means are significantly different. The Independent Samples t Test is a parametric test. This test is also known as: Independent t Test"
   ]
  },
  {
   "cell_type": "markdown",
   "metadata": {},
   "source": [
    "$ X^2 = \\sum(o-e)^2 / e $"
   ]
  },
  {
   "cell_type": "code",
   "execution_count": 22,
   "metadata": {},
   "outputs": [],
   "source": [
    "#Null hypothesis H0: there is no change in the IT service provider(In_House_response_time)\n",
    "#Alternate hypothesis H: there is going to be change in the IT service provider(AWS_response_time)"
   ]
  },
  {
   "cell_type": "code",
   "execution_count": 9,
   "metadata": {},
   "outputs": [
    {
     "data": {
      "text/plain": [
       "AWS_response_time         33.533333\n",
       "In_House_response_time    76.466667\n",
       "dtype: float64"
      ]
     },
     "execution_count": 9,
     "metadata": {},
     "output_type": "execute_result"
    }
   ],
   "source": [
    "np.mean(data)"
   ]
  },
  {
   "cell_type": "code",
   "execution_count": 13,
   "metadata": {},
   "outputs": [],
   "source": [
    "\n",
    "from scipy import stats\n",
    "np.random.seed(12)\n",
    "stats,p_value=stats.ttest_ind(data['AWS_response_time'], data['In_House_response_time'],equal_var=False)"
   ]
  },
  {
   "cell_type": "code",
   "execution_count": 14,
   "metadata": {},
   "outputs": [
    {
     "name": "stdout",
     "output_type": "stream",
     "text": [
      "6.6954310044894946e-21\n"
     ]
    }
   ],
   "source": [
    "print(p_value)"
   ]
  },
  {
   "cell_type": "code",
   "execution_count": 15,
   "metadata": {},
   "outputs": [
    {
     "name": "stdout",
     "output_type": "stream",
     "text": [
      "we are rejecting the null hypothesis\n"
     ]
    }
   ],
   "source": [
    "if p_value <0.05 :\n",
    "    print('we are rejecting the null hypothesis')\n",
    "else :\n",
    "    print('we are accepting the null hypothesis')"
   ]
  },
  {
   "cell_type": "code",
   "execution_count": 16,
   "metadata": {},
   "outputs": [],
   "source": [
    "#one sample ttest\n",
    "\n",
    "from scipy.stats import ttest_1samp\n",
    "tscore,pvalue =ttest_1samp(data, popmean=data)"
   ]
  },
  {
   "cell_type": "code",
   "execution_count": 17,
   "metadata": {},
   "outputs": [
    {
     "name": "stdout",
     "output_type": "stream",
     "text": [
      "t statitics     AWS_response_time  In_House_response_time\n",
      "0            0.702780               -9.792778\n",
      "1            8.036131               -0.768716\n",
      "2            9.869469                6.249998\n",
      "3           -0.213889               -3.776737\n",
      "4            6.202793                3.241978\n",
      "5            3.452787                1.236631\n",
      "6           -0.213889               -1.771390\n",
      "7            0.702780               -0.768716\n",
      "8           -5.713903               -6.784757\n",
      "9           -2.047227               -2.774063\n",
      "10          -1.130558               -1.771390\n",
      "11           8.036131                8.255345\n",
      "12          10.786138               11.263366\n",
      "13          -7.547241               -7.787431\n",
      "14          -0.213889                0.233957\n",
      "15          -4.797234               -3.776737\n",
      "16          -1.130558                0.233957\n",
      "17          -0.213889                1.236631\n",
      "18           6.202793                8.255345\n",
      "19          -8.463910               -6.784757\n",
      "20          -7.547241               -5.782084\n",
      "21          -6.630572               -4.779410\n",
      "22          -4.797234               -2.774063\n",
      "23           0.702780                3.241978\n",
      "24          -7.547241               -4.779410\n",
      "25          -3.880565               -0.768716\n",
      "26          -1.130558                2.239304\n",
      "27          -1.130558                2.239304\n",
      "28           4.369455                8.255345\n",
      "29           5.286124                9.258019\n"
     ]
    }
   ],
   "source": [
    "print('t statitics', tscore)\n"
   ]
  },
  {
   "cell_type": "code",
   "execution_count": 18,
   "metadata": {},
   "outputs": [
    {
     "data": {
      "text/plain": [
       "AWS_response_time        -1.184238e-15\n",
       "In_House_response_time    1.006602e-15\n",
       "dtype: float64"
      ]
     },
     "execution_count": 18,
     "metadata": {},
     "output_type": "execute_result"
    }
   ],
   "source": [
    "np.mean(tscore)"
   ]
  },
  {
   "cell_type": "code",
   "execution_count": 19,
   "metadata": {},
   "outputs": [
    {
     "name": "stdout",
     "output_type": "stream",
     "text": [
      "p value [[4.87796746e-01 1.05905186e-10]\n",
      " [7.31317037e-09 4.48277181e-01]\n",
      " [8.88434068e-11 8.04090072e-07]\n",
      " [8.32130028e-01 7.30912656e-04]\n",
      " [9.14521180e-07 2.98030304e-03]\n",
      " [1.72543991e-03 2.26145992e-01]\n",
      " [8.32130028e-01 8.70058915e-02]\n",
      " [4.87796746e-01 4.48277181e-01]\n",
      " [3.50103875e-06 1.89786340e-07]\n",
      " [4.97909841e-02 9.58204244e-03]\n",
      " [2.67504812e-01 8.70058915e-02]\n",
      " [7.31317037e-09 4.21703084e-09]\n",
      " [1.15358297e-11 4.15463452e-12]\n",
      " [2.55206760e-08 1.37593381e-08]\n",
      " [8.32130028e-01 8.16662032e-01]\n",
      " [4.45585095e-05 7.30912656e-04]\n",
      " [2.67504812e-01 8.16662032e-01]\n",
      " [8.32130028e-01 2.26145992e-01]\n",
      " [9.14521180e-07 4.21703084e-09]\n",
      " [2.51208742e-09 1.89786340e-07]\n",
      " [2.55206760e-08 2.90060777e-06]\n",
      " [2.86968207e-07 4.68189107e-05]\n",
      " [4.45585095e-05 9.58204244e-03]\n",
      " [4.87796746e-01 2.98030304e-03]\n",
      " [2.55206760e-08 4.68189107e-05]\n",
      " [5.52779060e-04 4.48277181e-01]\n",
      " [2.67504812e-01 3.29718663e-02]\n",
      " [2.67504812e-01 3.29718663e-02]\n",
      " [1.45559720e-04 4.21703084e-09]\n",
      " [1.14526761e-05 3.68263834e-10]]\n"
     ]
    }
   ],
   "source": [
    "print('p value', pvalue)"
   ]
  },
  {
   "cell_type": "code",
   "execution_count": 20,
   "metadata": {},
   "outputs": [
    {
     "data": {
      "text/plain": [
       "0.16018896685655656"
      ]
     },
     "execution_count": 20,
     "metadata": {},
     "output_type": "execute_result"
    }
   ],
   "source": [
    "np.mean(pvalue)"
   ]
  },
  {
   "cell_type": "code",
   "execution_count": 21,
   "metadata": {},
   "outputs": [
    {
     "name": "stdout",
     "output_type": "stream",
     "text": [
      "we are accepting null hypothesis\n"
     ]
    }
   ],
   "source": [
    "if np.mean(pvalue) <0.05:\n",
    "    print('we are rejecting null hypothesis')\n",
    "else:\n",
    "    print('we are accepting null hypothesis')"
   ]
  },
  {
   "cell_type": "code",
   "execution_count": 23,
   "metadata": {},
   "outputs": [
    {
     "name": "stdout",
     "output_type": "stream",
     "text": [
      "we are rejecting null hypothesis\n"
     ]
    }
   ],
   "source": [
    "if p_value <0.05:\n",
    "    print('we are rejecting null hypothesis')\n",
    "else:\n",
    "    print('we are accepting null hypothesis')"
   ]
  },
  {
   "cell_type": "code",
   "execution_count": null,
   "metadata": {},
   "outputs": [],
   "source": []
  }
 ],
 "metadata": {
  "kernelspec": {
   "display_name": "Python 3",
   "language": "python",
   "name": "python3"
  },
  "language_info": {
   "codemirror_mode": {
    "name": "ipython",
    "version": 3
   },
   "file_extension": ".py",
   "mimetype": "text/x-python",
   "name": "python",
   "nbconvert_exporter": "python",
   "pygments_lexer": "ipython3",
   "version": "3.8.5"
  }
 },
 "nbformat": 4,
 "nbformat_minor": 4
}
